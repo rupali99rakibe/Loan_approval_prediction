{
 "cells": [
  {
   "cell_type": "code",
   "execution_count": 1,
   "id": "c3883e1d-e928-4074-a77e-925944d9bcd2",
   "metadata": {},
   "outputs": [],
   "source": [
    "import pandas as pd\n",
    "import numpy as np\n",
    "import seaborn as sns \n",
    "import matplotlib.pyplot as plt\n",
    "%matplotlib inline\n",
    "import warnings\n",
    "warnings.filterwarnings('ignore')"
   ]
  },
  {
   "cell_type": "code",
   "execution_count": 2,
   "id": "f7819d17-74d0-4ef7-a0ed-6eb9fc346b08",
   "metadata": {},
   "outputs": [
    {
     "data": {
      "text/html": [
       "<div>\n",
       "<style scoped>\n",
       "    .dataframe tbody tr th:only-of-type {\n",
       "        vertical-align: middle;\n",
       "    }\n",
       "\n",
       "    .dataframe tbody tr th {\n",
       "        vertical-align: top;\n",
       "    }\n",
       "\n",
       "    .dataframe thead th {\n",
       "        text-align: right;\n",
       "    }\n",
       "</style>\n",
       "<table border=\"1\" class=\"dataframe\">\n",
       "  <thead>\n",
       "    <tr style=\"text-align: right;\">\n",
       "      <th></th>\n",
       "      <th>Loan_ID</th>\n",
       "      <th>Gender</th>\n",
       "      <th>Married</th>\n",
       "      <th>Dependents</th>\n",
       "      <th>Education</th>\n",
       "      <th>Self_Employed</th>\n",
       "      <th>ApplicantIncome</th>\n",
       "      <th>CoapplicantIncome</th>\n",
       "      <th>LoanAmount</th>\n",
       "      <th>Loan_Amount_Term</th>\n",
       "      <th>Credit_History</th>\n",
       "      <th>Property_Area</th>\n",
       "      <th>Loan_Status</th>\n",
       "    </tr>\n",
       "  </thead>\n",
       "  <tbody>\n",
       "    <tr>\n",
       "      <th>0</th>\n",
       "      <td>LP001002</td>\n",
       "      <td>Male</td>\n",
       "      <td>No</td>\n",
       "      <td>0</td>\n",
       "      <td>Graduate</td>\n",
       "      <td>No</td>\n",
       "      <td>5849</td>\n",
       "      <td>0.0</td>\n",
       "      <td>NaN</td>\n",
       "      <td>360.0</td>\n",
       "      <td>1.0</td>\n",
       "      <td>Urban</td>\n",
       "      <td>Y</td>\n",
       "    </tr>\n",
       "    <tr>\n",
       "      <th>1</th>\n",
       "      <td>LP001003</td>\n",
       "      <td>Male</td>\n",
       "      <td>Yes</td>\n",
       "      <td>1</td>\n",
       "      <td>Graduate</td>\n",
       "      <td>No</td>\n",
       "      <td>4583</td>\n",
       "      <td>1508.0</td>\n",
       "      <td>128.0</td>\n",
       "      <td>360.0</td>\n",
       "      <td>1.0</td>\n",
       "      <td>Rural</td>\n",
       "      <td>N</td>\n",
       "    </tr>\n",
       "    <tr>\n",
       "      <th>2</th>\n",
       "      <td>LP001005</td>\n",
       "      <td>Male</td>\n",
       "      <td>Yes</td>\n",
       "      <td>0</td>\n",
       "      <td>Graduate</td>\n",
       "      <td>Yes</td>\n",
       "      <td>3000</td>\n",
       "      <td>0.0</td>\n",
       "      <td>66.0</td>\n",
       "      <td>360.0</td>\n",
       "      <td>1.0</td>\n",
       "      <td>Urban</td>\n",
       "      <td>Y</td>\n",
       "    </tr>\n",
       "    <tr>\n",
       "      <th>3</th>\n",
       "      <td>LP001006</td>\n",
       "      <td>Male</td>\n",
       "      <td>Yes</td>\n",
       "      <td>0</td>\n",
       "      <td>Not Graduate</td>\n",
       "      <td>No</td>\n",
       "      <td>2583</td>\n",
       "      <td>2358.0</td>\n",
       "      <td>120.0</td>\n",
       "      <td>360.0</td>\n",
       "      <td>1.0</td>\n",
       "      <td>Urban</td>\n",
       "      <td>Y</td>\n",
       "    </tr>\n",
       "    <tr>\n",
       "      <th>4</th>\n",
       "      <td>LP001008</td>\n",
       "      <td>Male</td>\n",
       "      <td>No</td>\n",
       "      <td>0</td>\n",
       "      <td>Graduate</td>\n",
       "      <td>No</td>\n",
       "      <td>6000</td>\n",
       "      <td>0.0</td>\n",
       "      <td>141.0</td>\n",
       "      <td>360.0</td>\n",
       "      <td>1.0</td>\n",
       "      <td>Urban</td>\n",
       "      <td>Y</td>\n",
       "    </tr>\n",
       "  </tbody>\n",
       "</table>\n",
       "</div>"
      ],
      "text/plain": [
       "    Loan_ID Gender Married Dependents     Education Self_Employed  \\\n",
       "0  LP001002   Male      No          0      Graduate            No   \n",
       "1  LP001003   Male     Yes          1      Graduate            No   \n",
       "2  LP001005   Male     Yes          0      Graduate           Yes   \n",
       "3  LP001006   Male     Yes          0  Not Graduate            No   \n",
       "4  LP001008   Male      No          0      Graduate            No   \n",
       "\n",
       "   ApplicantIncome  CoapplicantIncome  LoanAmount  Loan_Amount_Term  \\\n",
       "0             5849                0.0         NaN             360.0   \n",
       "1             4583             1508.0       128.0             360.0   \n",
       "2             3000                0.0        66.0             360.0   \n",
       "3             2583             2358.0       120.0             360.0   \n",
       "4             6000                0.0       141.0             360.0   \n",
       "\n",
       "   Credit_History Property_Area Loan_Status  \n",
       "0             1.0         Urban           Y  \n",
       "1             1.0         Rural           N  \n",
       "2             1.0         Urban           Y  \n",
       "3             1.0         Urban           Y  \n",
       "4             1.0         Urban           Y  "
      ]
     },
     "execution_count": 2,
     "metadata": {},
     "output_type": "execute_result"
    }
   ],
   "source": [
    "df = pd.read_csv(\"D:\\practice_data_set\\Loan_approved_train.csv\")\n",
    "df.head()"
   ]
  },
  {
   "cell_type": "code",
   "execution_count": 3,
   "id": "59373eb7-f838-4404-918f-c2a215f80e38",
   "metadata": {},
   "outputs": [
    {
     "data": {
      "text/html": [
       "<div>\n",
       "<style scoped>\n",
       "    .dataframe tbody tr th:only-of-type {\n",
       "        vertical-align: middle;\n",
       "    }\n",
       "\n",
       "    .dataframe tbody tr th {\n",
       "        vertical-align: top;\n",
       "    }\n",
       "\n",
       "    .dataframe thead th {\n",
       "        text-align: right;\n",
       "    }\n",
       "</style>\n",
       "<table border=\"1\" class=\"dataframe\">\n",
       "  <thead>\n",
       "    <tr style=\"text-align: right;\">\n",
       "      <th></th>\n",
       "      <th>Loan_ID</th>\n",
       "      <th>Gender</th>\n",
       "      <th>Married</th>\n",
       "      <th>Dependents</th>\n",
       "      <th>Education</th>\n",
       "      <th>Self_Employed</th>\n",
       "      <th>ApplicantIncome</th>\n",
       "      <th>CoapplicantIncome</th>\n",
       "      <th>LoanAmount</th>\n",
       "      <th>Loan_Amount_Term</th>\n",
       "      <th>Credit_History</th>\n",
       "      <th>Property_Area</th>\n",
       "      <th>Loan_Status</th>\n",
       "    </tr>\n",
       "  </thead>\n",
       "  <tbody>\n",
       "    <tr>\n",
       "      <th>609</th>\n",
       "      <td>LP002978</td>\n",
       "      <td>Female</td>\n",
       "      <td>No</td>\n",
       "      <td>0</td>\n",
       "      <td>Graduate</td>\n",
       "      <td>No</td>\n",
       "      <td>2900</td>\n",
       "      <td>0.0</td>\n",
       "      <td>71.0</td>\n",
       "      <td>360.0</td>\n",
       "      <td>1.0</td>\n",
       "      <td>Rural</td>\n",
       "      <td>Y</td>\n",
       "    </tr>\n",
       "    <tr>\n",
       "      <th>610</th>\n",
       "      <td>LP002979</td>\n",
       "      <td>Male</td>\n",
       "      <td>Yes</td>\n",
       "      <td>3+</td>\n",
       "      <td>Graduate</td>\n",
       "      <td>No</td>\n",
       "      <td>4106</td>\n",
       "      <td>0.0</td>\n",
       "      <td>40.0</td>\n",
       "      <td>180.0</td>\n",
       "      <td>1.0</td>\n",
       "      <td>Rural</td>\n",
       "      <td>Y</td>\n",
       "    </tr>\n",
       "    <tr>\n",
       "      <th>611</th>\n",
       "      <td>LP002983</td>\n",
       "      <td>Male</td>\n",
       "      <td>Yes</td>\n",
       "      <td>1</td>\n",
       "      <td>Graduate</td>\n",
       "      <td>No</td>\n",
       "      <td>8072</td>\n",
       "      <td>240.0</td>\n",
       "      <td>253.0</td>\n",
       "      <td>360.0</td>\n",
       "      <td>1.0</td>\n",
       "      <td>Urban</td>\n",
       "      <td>Y</td>\n",
       "    </tr>\n",
       "    <tr>\n",
       "      <th>612</th>\n",
       "      <td>LP002984</td>\n",
       "      <td>Male</td>\n",
       "      <td>Yes</td>\n",
       "      <td>2</td>\n",
       "      <td>Graduate</td>\n",
       "      <td>No</td>\n",
       "      <td>7583</td>\n",
       "      <td>0.0</td>\n",
       "      <td>187.0</td>\n",
       "      <td>360.0</td>\n",
       "      <td>1.0</td>\n",
       "      <td>Urban</td>\n",
       "      <td>Y</td>\n",
       "    </tr>\n",
       "    <tr>\n",
       "      <th>613</th>\n",
       "      <td>LP002990</td>\n",
       "      <td>Female</td>\n",
       "      <td>No</td>\n",
       "      <td>0</td>\n",
       "      <td>Graduate</td>\n",
       "      <td>Yes</td>\n",
       "      <td>4583</td>\n",
       "      <td>0.0</td>\n",
       "      <td>133.0</td>\n",
       "      <td>360.0</td>\n",
       "      <td>0.0</td>\n",
       "      <td>Semiurban</td>\n",
       "      <td>N</td>\n",
       "    </tr>\n",
       "  </tbody>\n",
       "</table>\n",
       "</div>"
      ],
      "text/plain": [
       "      Loan_ID  Gender Married Dependents Education Self_Employed  \\\n",
       "609  LP002978  Female      No          0  Graduate            No   \n",
       "610  LP002979    Male     Yes         3+  Graduate            No   \n",
       "611  LP002983    Male     Yes          1  Graduate            No   \n",
       "612  LP002984    Male     Yes          2  Graduate            No   \n",
       "613  LP002990  Female      No          0  Graduate           Yes   \n",
       "\n",
       "     ApplicantIncome  CoapplicantIncome  LoanAmount  Loan_Amount_Term  \\\n",
       "609             2900                0.0        71.0             360.0   \n",
       "610             4106                0.0        40.0             180.0   \n",
       "611             8072              240.0       253.0             360.0   \n",
       "612             7583                0.0       187.0             360.0   \n",
       "613             4583                0.0       133.0             360.0   \n",
       "\n",
       "     Credit_History Property_Area Loan_Status  \n",
       "609             1.0         Rural           Y  \n",
       "610             1.0         Rural           Y  \n",
       "611             1.0         Urban           Y  \n",
       "612             1.0         Urban           Y  \n",
       "613             0.0     Semiurban           N  "
      ]
     },
     "execution_count": 3,
     "metadata": {},
     "output_type": "execute_result"
    }
   ],
   "source": [
    "df.tail()"
   ]
  },
  {
   "cell_type": "code",
   "execution_count": 4,
   "id": "c8948441-b4d4-4b23-9e80-2a195f76a429",
   "metadata": {},
   "outputs": [
    {
     "data": {
      "text/plain": [
       "(614, 13)"
      ]
     },
     "execution_count": 4,
     "metadata": {},
     "output_type": "execute_result"
    }
   ],
   "source": [
    "df.shape"
   ]
  },
  {
   "cell_type": "code",
   "execution_count": 5,
   "id": "088ee189-2e6c-418f-a6ca-99457e742909",
   "metadata": {},
   "outputs": [
    {
     "data": {
      "text/plain": [
       "Index(['Loan_ID', 'Gender', 'Married', 'Dependents', 'Education',\n",
       "       'Self_Employed', 'ApplicantIncome', 'CoapplicantIncome', 'LoanAmount',\n",
       "       'Loan_Amount_Term', 'Credit_History', 'Property_Area', 'Loan_Status'],\n",
       "      dtype='object')"
      ]
     },
     "execution_count": 5,
     "metadata": {},
     "output_type": "execute_result"
    }
   ],
   "source": [
    "df.columns"
   ]
  },
  {
   "cell_type": "code",
   "execution_count": 6,
   "id": "3afb513a-c531-495b-8d97-bc53032ff4aa",
   "metadata": {},
   "outputs": [
    {
     "name": "stdout",
     "output_type": "stream",
     "text": [
      "<class 'pandas.core.frame.DataFrame'>\n",
      "RangeIndex: 614 entries, 0 to 613\n",
      "Data columns (total 13 columns):\n",
      " #   Column             Non-Null Count  Dtype  \n",
      "---  ------             --------------  -----  \n",
      " 0   Loan_ID            614 non-null    object \n",
      " 1   Gender             601 non-null    object \n",
      " 2   Married            611 non-null    object \n",
      " 3   Dependents         599 non-null    object \n",
      " 4   Education          614 non-null    object \n",
      " 5   Self_Employed      582 non-null    object \n",
      " 6   ApplicantIncome    614 non-null    int64  \n",
      " 7   CoapplicantIncome  614 non-null    float64\n",
      " 8   LoanAmount         592 non-null    float64\n",
      " 9   Loan_Amount_Term   600 non-null    float64\n",
      " 10  Credit_History     564 non-null    float64\n",
      " 11  Property_Area      614 non-null    object \n",
      " 12  Loan_Status        614 non-null    object \n",
      "dtypes: float64(4), int64(1), object(8)\n",
      "memory usage: 62.5+ KB\n"
     ]
    }
   ],
   "source": [
    "df.info()"
   ]
  },
  {
   "cell_type": "code",
   "execution_count": 7,
   "id": "ad1d6229-a79a-4e64-96ee-1c0d4b133f40",
   "metadata": {},
   "outputs": [
    {
     "data": {
      "text/plain": [
       "Loan_ID               0\n",
       "Gender               13\n",
       "Married               3\n",
       "Dependents           15\n",
       "Education             0\n",
       "Self_Employed        32\n",
       "ApplicantIncome       0\n",
       "CoapplicantIncome     0\n",
       "LoanAmount           22\n",
       "Loan_Amount_Term     14\n",
       "Credit_History       50\n",
       "Property_Area         0\n",
       "Loan_Status           0\n",
       "dtype: int64"
      ]
     },
     "execution_count": 7,
     "metadata": {},
     "output_type": "execute_result"
    }
   ],
   "source": [
    "df.isnull().sum()"
   ]
  },
  {
   "cell_type": "code",
   "execution_count": 8,
   "id": "b6338c5c-f5ff-496a-ae67-9ca5f73a51fb",
   "metadata": {},
   "outputs": [
    {
     "data": {
      "image/png": "[encoded data removed]",
      "text/plain": [
       "<Figure size 1200x800 with 1 Axes>"
      ]
     },
     "metadata": {},
     "output_type": "display_data"
    }
   ],
   "source": [
    "# cheking the outliers\n",
    "plt.figure(figsize=(12,8))\n",
    "sns.boxplot(data=df)\n",
    "plt.show()"
   ]
  },
  {
   "cell_type": "code",
   "execution_count": 9,
   "id": "237afe86-a011-4e1a-afb5-3a627d77cff6",
   "metadata": {},
   "outputs": [],
   "source": [
    "# Fill the null value of numerical datatypes\n",
    "df['LoanAmount'] = df['LoanAmount'].fillna(df['LoanAmount'].median())\n",
    "df['Loan_Amount_Term'] = df['Loan_Amount_Term'].fillna(df['Loan_Amount_Term'].mean())\n",
    "df['Credit_History'] = df['Credit_History'].fillna(df['Credit_History'].median())"
   ]
  },
  {
   "cell_type": "code",
   "execution_count": 10,
   "id": "fa7302ca-f4d3-4230-beb8-5891341c4485",
   "metadata": {},
   "outputs": [
    {
     "data": {
      "text/plain": [
       "Loan_ID               0\n",
       "Gender               13\n",
       "Married               3\n",
       "Dependents           15\n",
       "Education             0\n",
       "Self_Employed        32\n",
       "ApplicantIncome       0\n",
       "CoapplicantIncome     0\n",
       "LoanAmount            0\n",
       "Loan_Amount_Term      0\n",
       "Credit_History        0\n",
       "Property_Area         0\n",
       "Loan_Status           0\n",
       "dtype: int64"
      ]
     },
     "execution_count": 10,
     "metadata": {},
     "output_type": "execute_result"
    }
   ],
   "source": [
    "df.isnull().sum()"
   ]
  },
  {
   "cell_type": "code",
   "execution_count": 11,
   "id": "8abf19d3-7574-4d34-a452-8191ecc6c967",
   "metadata": {},
   "outputs": [
    {
     "data": {
      "text/plain": [
       "'Male'"
      ]
     },
     "execution_count": 11,
     "metadata": {},
     "output_type": "execute_result"
    }
   ],
   "source": [
    "df['Gender'].mode()[0]"
   ]
  },
  {
   "cell_type": "code",
   "execution_count": 12,
   "id": "b44277a5-3636-4c63-8c3e-c7a98833260e",
   "metadata": {},
   "outputs": [],
   "source": [
    "# Fill the null values of object datatype\n",
    "df['Gender'] = df['Gender'].fillna(df['Gender'].mode()[0])\n",
    "df['Married'] = df['Married'].fillna(df['Married'].mode()[0])\n",
    "df['Dependents'] = df['Dependents'].fillna(df['Dependents'].mode()[0])\n",
    "df['Self_Employed'] = df['Self_Employed'].fillna(df['Self_Employed'].mode()[0])"
   ]
  },
  {
   "cell_type": "code",
   "execution_count": 13,
   "id": "c7d33f1d-1504-4894-9048-e02b90e0e07c",
   "metadata": {},
   "outputs": [
    {
     "data": {
      "text/plain": [
       "Loan_ID              0\n",
       "Gender               0\n",
       "Married              0\n",
       "Dependents           0\n",
       "Education            0\n",
       "Self_Employed        0\n",
       "ApplicantIncome      0\n",
       "CoapplicantIncome    0\n",
       "LoanAmount           0\n",
       "Loan_Amount_Term     0\n",
       "Credit_History       0\n",
       "Property_Area        0\n",
       "Loan_Status          0\n",
       "dtype: int64"
      ]
     },
     "execution_count": 13,
     "metadata": {},
     "output_type": "execute_result"
    }
   ],
   "source": [
    "df.isnull().sum()"
   ]
  },
  {
   "cell_type": "code",
   "execution_count": 14,
   "id": "8b55e151-b40e-40ce-b4ef-4248a0db4603",
   "metadata": {},
   "outputs": [
    {
     "name": "stdout",
     "output_type": "stream",
     "text": [
      "Number of pepole who took loan by gender\n",
      "Gender\n",
      "Male      502\n",
      "Female    112\n",
      "Name: count, dtype: int64\n"
     ]
    },
    {
     "data": {
      "image/png": "[encoded data removed]",
      "text/plain": [
       "<Figure size 640x480 with 1 Axes>"
      ]
     },
     "metadata": {},
     "output_type": "display_data"
    }
   ],
   "source": [
    "print('Number of pepole who took loan by gender')\n",
    "print((df['Gender']).value_counts())\n",
    "sns.countplot(x ='Gender',data = df, palette='Set1')\n",
    "plt.show()"
   ]
  },
  {
   "cell_type": "code",
   "execution_count": 15,
   "id": "ca730091-7d84-444d-b708-1c57afc52b69",
   "metadata": {},
   "outputs": [
    {
     "name": "stdout",
     "output_type": "stream",
     "text": [
      "Number of pepole who took loan by Married\n",
      "Married\n",
      "Yes    401\n",
      "No     213\n",
      "Name: count, dtype: int64\n"
     ]
    },
    {
     "data": {
      "image/png": "[encoded data removed]",
      "text/plain": [
       "<Figure size 640x480 with 1 Axes>"
      ]
     },
     "metadata": {},
     "output_type": "display_data"
    }
   ],
   "source": [
    "print('Number of pepole who took loan by Married')\n",
    "print((df['Married']).value_counts())\n",
    "sns.countplot(x ='Married',data = df, palette='Set1')\n",
    "plt.show()"
   ]
  },
  {
   "cell_type": "code",
   "execution_count": 16,
   "id": "c6c70216-4705-4578-90c4-c8339bf1980a",
   "metadata": {},
   "outputs": [
    {
     "name": "stdout",
     "output_type": "stream",
     "text": [
      "Number of pepole who took loan by Education\n",
      "Education\n",
      "Graduate        480\n",
      "Not Graduate    134\n",
      "Name: count, dtype: int64\n"
     ]
    },
    {
     "data": {
      "image/png": "[encoded data removed]",
      "text/plain": [
       "<Figure size 640x480 with 1 Axes>"
      ]
     },
     "metadata": {},
     "output_type": "display_data"
    }
   ],
   "source": [
    "print('Number of pepole who took loan by Education')\n",
    "print((df['Education']).value_counts())\n",
    "sns.countplot(x ='Education',data = df, palette='Set1')\n",
    "plt.show()"
   ]
  },
  {
   "cell_type": "code",
   "execution_count": 17,
   "id": "e7df23c7-913d-4fbf-a8f1-4b76481caebc",
   "metadata": {},
   "outputs": [
    {
     "name": "stdout",
     "output_type": "stream",
     "text": [
      "Non-numeric columns: Index(['Loan_ID', 'Gender', 'Married', 'Dependents', 'Education',\n",
      "       'Self_Employed', 'Property_Area', 'Loan_Status'],\n",
      "      dtype='object')\n",
      "Numeric DataFrame:\n",
      "      ApplicantIncome  CoapplicantIncome  LoanAmount  Loan_Amount_Term  \\\n",
      "0               5849                0.0       128.0             360.0   \n",
      "1               4583             1508.0       128.0             360.0   \n",
      "2               3000                0.0        66.0             360.0   \n",
      "3               2583             2358.0       120.0             360.0   \n",
      "4               6000                0.0       141.0             360.0   \n",
      "..               ...                ...         ...               ...   \n",
      "609             2900                0.0        71.0             360.0   \n",
      "610             4106                0.0        40.0             180.0   \n",
      "611             8072              240.0       253.0             360.0   \n",
      "612             7583                0.0       187.0             360.0   \n",
      "613             4583                0.0       133.0             360.0   \n",
      "\n",
      "     Credit_History  \n",
      "0               1.0  \n",
      "1               1.0  \n",
      "2               1.0  \n",
      "3               1.0  \n",
      "4               1.0  \n",
      "..              ...  \n",
      "609             1.0  \n",
      "610             1.0  \n",
      "611             1.0  \n",
      "612             1.0  \n",
      "613             0.0  \n",
      "\n",
      "[614 rows x 5 columns]\n"
     ]
    },
    {
     "data": {
      "text/plain": [
       "<Axes: >"
      ]
     },
     "execution_count": 17,
     "metadata": {},
     "output_type": "execute_result"
    },
    {
     "data": {
      "image/png": "[encoded data removed]",
      "text/plain": [
       "<Figure size 1000x800 with 2 Axes>"
      ]
     },
     "metadata": {},
     "output_type": "display_data"
    }
   ],
   "source": [
    "non_numeric_cols = df.select_dtypes(include=['object']).columns\n",
    "print(\"Non-numeric columns:\", non_numeric_cols)\n",
    "df_numeric = df.drop(columns=non_numeric_cols)\n",
    "print(\"Numeric DataFrame:\\n\", df_numeric)\n",
    "corr = df_numeric.corr()\n",
    "plt.figure(figsize=(10,8))\n",
    "sns.heatmap(corr,annot = True, cmap=\"BuPu\")"
   ]
  },
  {
   "cell_type": "code",
   "execution_count": 18,
   "id": "2f2eb408-7b99-4444-92c0-1217323202e1",
   "metadata": {},
   "outputs": [
    {
     "data": {
      "text/html": [
       "<div>\n",
       "<style scoped>\n",
       "    .dataframe tbody tr th:only-of-type {\n",
       "        vertical-align: middle;\n",
       "    }\n",
       "\n",
       "    .dataframe tbody tr th {\n",
       "        vertical-align: top;\n",
       "    }\n",
       "\n",
       "    .dataframe thead th {\n",
       "        text-align: right;\n",
       "    }\n",
       "</style>\n",
       "<table border=\"1\" class=\"dataframe\">\n",
       "  <thead>\n",
       "    <tr style=\"text-align: right;\">\n",
       "      <th></th>\n",
       "      <th>ApplicantIncome</th>\n",
       "      <th>CoapplicantIncome</th>\n",
       "      <th>LoanAmount</th>\n",
       "      <th>Loan_Amount_Term</th>\n",
       "      <th>Credit_History</th>\n",
       "    </tr>\n",
       "  </thead>\n",
       "  <tbody>\n",
       "    <tr>\n",
       "      <th>ApplicantIncome</th>\n",
       "      <td>1.000000</td>\n",
       "      <td>-0.116605</td>\n",
       "      <td>0.565181</td>\n",
       "      <td>-0.045242</td>\n",
       "      <td>-0.018615</td>\n",
       "    </tr>\n",
       "    <tr>\n",
       "      <th>CoapplicantIncome</th>\n",
       "      <td>-0.116605</td>\n",
       "      <td>1.000000</td>\n",
       "      <td>0.189218</td>\n",
       "      <td>-0.059675</td>\n",
       "      <td>0.011134</td>\n",
       "    </tr>\n",
       "    <tr>\n",
       "      <th>LoanAmount</th>\n",
       "      <td>0.565181</td>\n",
       "      <td>0.189218</td>\n",
       "      <td>1.000000</td>\n",
       "      <td>0.039235</td>\n",
       "      <td>-0.000607</td>\n",
       "    </tr>\n",
       "    <tr>\n",
       "      <th>Loan_Amount_Term</th>\n",
       "      <td>-0.045242</td>\n",
       "      <td>-0.059675</td>\n",
       "      <td>0.039235</td>\n",
       "      <td>1.000000</td>\n",
       "      <td>0.000432</td>\n",
       "    </tr>\n",
       "    <tr>\n",
       "      <th>Credit_History</th>\n",
       "      <td>-0.018615</td>\n",
       "      <td>0.011134</td>\n",
       "      <td>-0.000607</td>\n",
       "      <td>0.000432</td>\n",
       "      <td>1.000000</td>\n",
       "    </tr>\n",
       "  </tbody>\n",
       "</table>\n",
       "</div>"
      ],
      "text/plain": [
       "                   ApplicantIncome  CoapplicantIncome  LoanAmount  \\\n",
       "ApplicantIncome           1.000000          -0.116605    0.565181   \n",
       "CoapplicantIncome        -0.116605           1.000000    0.189218   \n",
       "LoanAmount                0.565181           0.189218    1.000000   \n",
       "Loan_Amount_Term         -0.045242          -0.059675    0.039235   \n",
       "Credit_History           -0.018615           0.011134   -0.000607   \n",
       "\n",
       "                   Loan_Amount_Term  Credit_History  \n",
       "ApplicantIncome           -0.045242       -0.018615  \n",
       "CoapplicantIncome         -0.059675        0.011134  \n",
       "LoanAmount                 0.039235       -0.000607  \n",
       "Loan_Amount_Term           1.000000        0.000432  \n",
       "Credit_History             0.000432        1.000000  "
      ]
     },
     "execution_count": 18,
     "metadata": {},
     "output_type": "execute_result"
    }
   ],
   "source": [
    "corr = df_numeric.corr()\n",
    "corr"
   ]
  },
  {
   "cell_type": "code",
   "execution_count": 19,
   "id": "7c4eaa6f-e1c7-42e7-8874-56f99dd35577",
   "metadata": {},
   "outputs": [
    {
     "data": {
      "text/html": [
       "<div>\n",
       "<style scoped>\n",
       "    .dataframe tbody tr th:only-of-type {\n",
       "        vertical-align: middle;\n",
       "    }\n",
       "\n",
       "    .dataframe tbody tr th {\n",
       "        vertical-align: top;\n",
       "    }\n",
       "\n",
       "    .dataframe thead th {\n",
       "        text-align: right;\n",
       "    }\n",
       "</style>\n",
       "<table border=\"1\" class=\"dataframe\">\n",
       "  <thead>\n",
       "    <tr style=\"text-align: right;\">\n",
       "      <th></th>\n",
       "      <th>Loan_ID</th>\n",
       "      <th>Gender</th>\n",
       "      <th>Married</th>\n",
       "      <th>Dependents</th>\n",
       "      <th>Education</th>\n",
       "      <th>Self_Employed</th>\n",
       "      <th>ApplicantIncome</th>\n",
       "      <th>CoapplicantIncome</th>\n",
       "      <th>LoanAmount</th>\n",
       "      <th>Loan_Amount_Term</th>\n",
       "      <th>Credit_History</th>\n",
       "      <th>Property_Area</th>\n",
       "      <th>Loan_Status</th>\n",
       "      <th>Total_Applicant</th>\n",
       "    </tr>\n",
       "  </thead>\n",
       "  <tbody>\n",
       "    <tr>\n",
       "      <th>0</th>\n",
       "      <td>LP001002</td>\n",
       "      <td>Male</td>\n",
       "      <td>No</td>\n",
       "      <td>0</td>\n",
       "      <td>Graduate</td>\n",
       "      <td>No</td>\n",
       "      <td>5849</td>\n",
       "      <td>0.0</td>\n",
       "      <td>128.0</td>\n",
       "      <td>360.0</td>\n",
       "      <td>1.0</td>\n",
       "      <td>Urban</td>\n",
       "      <td>Y</td>\n",
       "      <td>5849.0</td>\n",
       "    </tr>\n",
       "    <tr>\n",
       "      <th>1</th>\n",
       "      <td>LP001003</td>\n",
       "      <td>Male</td>\n",
       "      <td>Yes</td>\n",
       "      <td>1</td>\n",
       "      <td>Graduate</td>\n",
       "      <td>No</td>\n",
       "      <td>4583</td>\n",
       "      <td>1508.0</td>\n",
       "      <td>128.0</td>\n",
       "      <td>360.0</td>\n",
       "      <td>1.0</td>\n",
       "      <td>Rural</td>\n",
       "      <td>N</td>\n",
       "      <td>6091.0</td>\n",
       "    </tr>\n",
       "    <tr>\n",
       "      <th>2</th>\n",
       "      <td>LP001005</td>\n",
       "      <td>Male</td>\n",
       "      <td>Yes</td>\n",
       "      <td>0</td>\n",
       "      <td>Graduate</td>\n",
       "      <td>Yes</td>\n",
       "      <td>3000</td>\n",
       "      <td>0.0</td>\n",
       "      <td>66.0</td>\n",
       "      <td>360.0</td>\n",
       "      <td>1.0</td>\n",
       "      <td>Urban</td>\n",
       "      <td>Y</td>\n",
       "      <td>3000.0</td>\n",
       "    </tr>\n",
       "    <tr>\n",
       "      <th>3</th>\n",
       "      <td>LP001006</td>\n",
       "      <td>Male</td>\n",
       "      <td>Yes</td>\n",
       "      <td>0</td>\n",
       "      <td>Not Graduate</td>\n",
       "      <td>No</td>\n",
       "      <td>2583</td>\n",
       "      <td>2358.0</td>\n",
       "      <td>120.0</td>\n",
       "      <td>360.0</td>\n",
       "      <td>1.0</td>\n",
       "      <td>Urban</td>\n",
       "      <td>Y</td>\n",
       "      <td>4941.0</td>\n",
       "    </tr>\n",
       "    <tr>\n",
       "      <th>4</th>\n",
       "      <td>LP001008</td>\n",
       "      <td>Male</td>\n",
       "      <td>No</td>\n",
       "      <td>0</td>\n",
       "      <td>Graduate</td>\n",
       "      <td>No</td>\n",
       "      <td>6000</td>\n",
       "      <td>0.0</td>\n",
       "      <td>141.0</td>\n",
       "      <td>360.0</td>\n",
       "      <td>1.0</td>\n",
       "      <td>Urban</td>\n",
       "      <td>Y</td>\n",
       "      <td>6000.0</td>\n",
       "    </tr>\n",
       "  </tbody>\n",
       "</table>\n",
       "</div>"
      ],
      "text/plain": [
       "    Loan_ID Gender Married Dependents     Education Self_Employed  \\\n",
       "0  LP001002   Male      No          0      Graduate            No   \n",
       "1  LP001003   Male     Yes          1      Graduate            No   \n",
       "2  LP001005   Male     Yes          0      Graduate           Yes   \n",
       "3  LP001006   Male     Yes          0  Not Graduate            No   \n",
       "4  LP001008   Male      No          0      Graduate            No   \n",
       "\n",
       "   ApplicantIncome  CoapplicantIncome  LoanAmount  Loan_Amount_Term  \\\n",
       "0             5849                0.0       128.0             360.0   \n",
       "1             4583             1508.0       128.0             360.0   \n",
       "2             3000                0.0        66.0             360.0   \n",
       "3             2583             2358.0       120.0             360.0   \n",
       "4             6000                0.0       141.0             360.0   \n",
       "\n",
       "   Credit_History Property_Area Loan_Status  Total_Applicant  \n",
       "0             1.0         Urban           Y           5849.0  \n",
       "1             1.0         Rural           N           6091.0  \n",
       "2             1.0         Urban           Y           3000.0  \n",
       "3             1.0         Urban           Y           4941.0  \n",
       "4             1.0         Urban           Y           6000.0  "
      ]
     },
     "execution_count": 19,
     "metadata": {},
     "output_type": "execute_result"
    }
   ],
   "source": [
    "## Total Applicant Income\n",
    "df['Total_Applicant'] = df['ApplicantIncome'] +df['CoapplicantIncome']\n",
    "df.head()"
   ]
  },
  {
   "cell_type": "code",
   "execution_count": 20,
   "id": "27e1621d-72e3-4dc5-bfd5-7d4d3a7349db",
   "metadata": {},
   "outputs": [
    {
     "data": {
      "image/png": "[encoded data removed]",
      "text/plain": [
       "<Figure size 500x500 with 1 Axes>"
      ]
     },
     "metadata": {},
     "output_type": "display_data"
    }
   ],
   "source": [
    "## Apply log transformation\n",
    "\n",
    "df[\"ApplicantIncomelog\"] = np.log(df['ApplicantIncome'] + 1)\n",
    "sns.displot(df['ApplicantIncomelog'])\n",
    "plt.show()"
   ]
  },
  {
   "cell_type": "code",
   "execution_count": 21,
   "id": "fb22de2a-b935-492d-b2af-800b6acaa0b6",
   "metadata": {},
   "outputs": [
    {
     "data": {
      "text/html": [
       "<div>\n",
       "<style scoped>\n",
       "    .dataframe tbody tr th:only-of-type {\n",
       "        vertical-align: middle;\n",
       "    }\n",
       "\n",
       "    .dataframe tbody tr th {\n",
       "        vertical-align: top;\n",
       "    }\n",
       "\n",
       "    .dataframe thead th {\n",
       "        text-align: right;\n",
       "    }\n",
       "</style>\n",
       "<table border=\"1\" class=\"dataframe\">\n",
       "  <thead>\n",
       "    <tr style=\"text-align: right;\">\n",
       "      <th></th>\n",
       "      <th>Loan_ID</th>\n",
       "      <th>Gender</th>\n",
       "      <th>Married</th>\n",
       "      <th>Dependents</th>\n",
       "      <th>Education</th>\n",
       "      <th>Self_Employed</th>\n",
       "      <th>ApplicantIncome</th>\n",
       "      <th>CoapplicantIncome</th>\n",
       "      <th>LoanAmount</th>\n",
       "      <th>Loan_Amount_Term</th>\n",
       "      <th>Credit_History</th>\n",
       "      <th>Property_Area</th>\n",
       "      <th>Loan_Status</th>\n",
       "      <th>Total_Applicant</th>\n",
       "      <th>ApplicantIncomelog</th>\n",
       "    </tr>\n",
       "  </thead>\n",
       "  <tbody>\n",
       "    <tr>\n",
       "      <th>0</th>\n",
       "      <td>LP001002</td>\n",
       "      <td>Male</td>\n",
       "      <td>No</td>\n",
       "      <td>0</td>\n",
       "      <td>Graduate</td>\n",
       "      <td>No</td>\n",
       "      <td>5849</td>\n",
       "      <td>0.0</td>\n",
       "      <td>128.0</td>\n",
       "      <td>360.0</td>\n",
       "      <td>1.0</td>\n",
       "      <td>Urban</td>\n",
       "      <td>Y</td>\n",
       "      <td>5849.0</td>\n",
       "      <td>8.674197</td>\n",
       "    </tr>\n",
       "    <tr>\n",
       "      <th>1</th>\n",
       "      <td>LP001003</td>\n",
       "      <td>Male</td>\n",
       "      <td>Yes</td>\n",
       "      <td>1</td>\n",
       "      <td>Graduate</td>\n",
       "      <td>No</td>\n",
       "      <td>4583</td>\n",
       "      <td>1508.0</td>\n",
       "      <td>128.0</td>\n",
       "      <td>360.0</td>\n",
       "      <td>1.0</td>\n",
       "      <td>Rural</td>\n",
       "      <td>N</td>\n",
       "      <td>6091.0</td>\n",
       "      <td>8.430327</td>\n",
       "    </tr>\n",
       "    <tr>\n",
       "      <th>2</th>\n",
       "      <td>LP001005</td>\n",
       "      <td>Male</td>\n",
       "      <td>Yes</td>\n",
       "      <td>0</td>\n",
       "      <td>Graduate</td>\n",
       "      <td>Yes</td>\n",
       "      <td>3000</td>\n",
       "      <td>0.0</td>\n",
       "      <td>66.0</td>\n",
       "      <td>360.0</td>\n",
       "      <td>1.0</td>\n",
       "      <td>Urban</td>\n",
       "      <td>Y</td>\n",
       "      <td>3000.0</td>\n",
       "      <td>8.006701</td>\n",
       "    </tr>\n",
       "    <tr>\n",
       "      <th>3</th>\n",
       "      <td>LP001006</td>\n",
       "      <td>Male</td>\n",
       "      <td>Yes</td>\n",
       "      <td>0</td>\n",
       "      <td>Not Graduate</td>\n",
       "      <td>No</td>\n",
       "      <td>2583</td>\n",
       "      <td>2358.0</td>\n",
       "      <td>120.0</td>\n",
       "      <td>360.0</td>\n",
       "      <td>1.0</td>\n",
       "      <td>Urban</td>\n",
       "      <td>Y</td>\n",
       "      <td>4941.0</td>\n",
       "      <td>7.857094</td>\n",
       "    </tr>\n",
       "    <tr>\n",
       "      <th>4</th>\n",
       "      <td>LP001008</td>\n",
       "      <td>Male</td>\n",
       "      <td>No</td>\n",
       "      <td>0</td>\n",
       "      <td>Graduate</td>\n",
       "      <td>No</td>\n",
       "      <td>6000</td>\n",
       "      <td>0.0</td>\n",
       "      <td>141.0</td>\n",
       "      <td>360.0</td>\n",
       "      <td>1.0</td>\n",
       "      <td>Urban</td>\n",
       "      <td>Y</td>\n",
       "      <td>6000.0</td>\n",
       "      <td>8.699681</td>\n",
       "    </tr>\n",
       "  </tbody>\n",
       "</table>\n",
       "</div>"
      ],
      "text/plain": [
       "    Loan_ID Gender Married Dependents     Education Self_Employed  \\\n",
       "0  LP001002   Male      No          0      Graduate            No   \n",
       "1  LP001003   Male     Yes          1      Graduate            No   \n",
       "2  LP001005   Male     Yes          0      Graduate           Yes   \n",
       "3  LP001006   Male     Yes          0  Not Graduate            No   \n",
       "4  LP001008   Male      No          0      Graduate            No   \n",
       "\n",
       "   ApplicantIncome  CoapplicantIncome  LoanAmount  Loan_Amount_Term  \\\n",
       "0             5849                0.0       128.0             360.0   \n",
       "1             4583             1508.0       128.0             360.0   \n",
       "2             3000                0.0        66.0             360.0   \n",
       "3             2583             2358.0       120.0             360.0   \n",
       "4             6000                0.0       141.0             360.0   \n",
       "\n",
       "   Credit_History Property_Area Loan_Status  Total_Applicant  \\\n",
       "0             1.0         Urban           Y           5849.0   \n",
       "1             1.0         Rural           N           6091.0   \n",
       "2             1.0         Urban           Y           3000.0   \n",
       "3             1.0         Urban           Y           4941.0   \n",
       "4             1.0         Urban           Y           6000.0   \n",
       "\n",
       "   ApplicantIncomelog  \n",
       "0            8.674197  \n",
       "1            8.430327  \n",
       "2            8.006701  \n",
       "3            7.857094  \n",
       "4            8.699681  "
      ]
     },
     "execution_count": 21,
     "metadata": {},
     "output_type": "execute_result"
    }
   ],
   "source": [
    "df.head()"
   ]
  },
  {
   "cell_type": "code",
   "execution_count": 22,
   "id": "f9ec6739-80b3-48fc-accb-5ce704403041",
   "metadata": {},
   "outputs": [
    {
     "data": {
      "image/png": "[encoded data removed]",
      "text/plain": [
       "<Figure size 500x500 with 1 Axes>"
      ]
     },
     "metadata": {},
     "output_type": "display_data"
    }
   ],
   "source": [
    "df['LoanAmountlog'] = np.log(df['LoanAmount'] + 1)\n",
    "sns.displot(df['LoanAmountlog'])\n",
    "plt.show()"
   ]
  },
  {
   "cell_type": "code",
   "execution_count": 23,
   "id": "78aaec04-9cad-416a-a6f4-170838d5774f",
   "metadata": {},
   "outputs": [
    {
     "data": {
      "image/png": "[encoded data removed]",
      "text/plain": [
       "<Figure size 500x500 with 1 Axes>"
      ]
     },
     "metadata": {},
     "output_type": "display_data"
    }
   ],
   "source": [
    "df['Loan_Amount_Term_log'] = np.log(df['Loan_Amount_Term'] + 1)\n",
    "sns.displot(df['Loan_Amount_Term_log'])\n",
    "plt.show()"
   ]
  },
  {
   "cell_type": "code",
   "execution_count": 24,
   "id": "b69a908f-722c-4cd8-b78f-e6eb7aeea949",
   "metadata": {},
   "outputs": [
    {
     "data": {
      "image/png": "[encoded data removed]",
      "text/plain": [
       "<Figure size 500x500 with 1 Axes>"
      ]
     },
     "metadata": {},
     "output_type": "display_data"
    }
   ],
   "source": [
    "df['Total_Applicant_log'] = np.log(df['Total_Applicant'] + 1)\n",
    "sns.displot(df['Total_Applicant_log'])\n",
    "plt.show()"
   ]
  },
  {
   "cell_type": "code",
   "execution_count": 25,
   "id": "907798a8-4e22-4a81-a299-422a11bcc677",
   "metadata": {},
   "outputs": [
    {
     "data": {
      "text/html": [
       "<div>\n",
       "<style scoped>\n",
       "    .dataframe tbody tr th:only-of-type {\n",
       "        vertical-align: middle;\n",
       "    }\n",
       "\n",
       "    .dataframe tbody tr th {\n",
       "        vertical-align: top;\n",
       "    }\n",
       "\n",
       "    .dataframe thead th {\n",
       "        text-align: right;\n",
       "    }\n",
       "</style>\n",
       "<table border=\"1\" class=\"dataframe\">\n",
       "  <thead>\n",
       "    <tr style=\"text-align: right;\">\n",
       "      <th></th>\n",
       "      <th>Loan_ID</th>\n",
       "      <th>Gender</th>\n",
       "      <th>Married</th>\n",
       "      <th>Dependents</th>\n",
       "      <th>Education</th>\n",
       "      <th>Self_Employed</th>\n",
       "      <th>ApplicantIncome</th>\n",
       "      <th>CoapplicantIncome</th>\n",
       "      <th>LoanAmount</th>\n",
       "      <th>Loan_Amount_Term</th>\n",
       "      <th>Credit_History</th>\n",
       "      <th>Property_Area</th>\n",
       "      <th>Loan_Status</th>\n",
       "      <th>Total_Applicant</th>\n",
       "      <th>ApplicantIncomelog</th>\n",
       "      <th>LoanAmountlog</th>\n",
       "      <th>Loan_Amount_Term_log</th>\n",
       "      <th>Total_Applicant_log</th>\n",
       "    </tr>\n",
       "  </thead>\n",
       "  <tbody>\n",
       "    <tr>\n",
       "      <th>0</th>\n",
       "      <td>LP001002</td>\n",
       "      <td>Male</td>\n",
       "      <td>No</td>\n",
       "      <td>0</td>\n",
       "      <td>Graduate</td>\n",
       "      <td>No</td>\n",
       "      <td>5849</td>\n",
       "      <td>0.0</td>\n",
       "      <td>128.0</td>\n",
       "      <td>360.0</td>\n",
       "      <td>1.0</td>\n",
       "      <td>Urban</td>\n",
       "      <td>Y</td>\n",
       "      <td>5849.0</td>\n",
       "      <td>8.674197</td>\n",
       "      <td>4.859812</td>\n",
       "      <td>5.888878</td>\n",
       "      <td>8.674197</td>\n",
       "    </tr>\n",
       "    <tr>\n",
       "      <th>1</th>\n",
       "      <td>LP001003</td>\n",
       "      <td>Male</td>\n",
       "      <td>Yes</td>\n",
       "      <td>1</td>\n",
       "      <td>Graduate</td>\n",
       "      <td>No</td>\n",
       "      <td>4583</td>\n",
       "      <td>1508.0</td>\n",
       "      <td>128.0</td>\n",
       "      <td>360.0</td>\n",
       "      <td>1.0</td>\n",
       "      <td>Rural</td>\n",
       "      <td>N</td>\n",
       "      <td>6091.0</td>\n",
       "      <td>8.430327</td>\n",
       "      <td>4.859812</td>\n",
       "      <td>5.888878</td>\n",
       "      <td>8.714732</td>\n",
       "    </tr>\n",
       "    <tr>\n",
       "      <th>2</th>\n",
       "      <td>LP001005</td>\n",
       "      <td>Male</td>\n",
       "      <td>Yes</td>\n",
       "      <td>0</td>\n",
       "      <td>Graduate</td>\n",
       "      <td>Yes</td>\n",
       "      <td>3000</td>\n",
       "      <td>0.0</td>\n",
       "      <td>66.0</td>\n",
       "      <td>360.0</td>\n",
       "      <td>1.0</td>\n",
       "      <td>Urban</td>\n",
       "      <td>Y</td>\n",
       "      <td>3000.0</td>\n",
       "      <td>8.006701</td>\n",
       "      <td>4.204693</td>\n",
       "      <td>5.888878</td>\n",
       "      <td>8.006701</td>\n",
       "    </tr>\n",
       "    <tr>\n",
       "      <th>3</th>\n",
       "      <td>LP001006</td>\n",
       "      <td>Male</td>\n",
       "      <td>Yes</td>\n",
       "      <td>0</td>\n",
       "      <td>Not Graduate</td>\n",
       "      <td>No</td>\n",
       "      <td>2583</td>\n",
       "      <td>2358.0</td>\n",
       "      <td>120.0</td>\n",
       "      <td>360.0</td>\n",
       "      <td>1.0</td>\n",
       "      <td>Urban</td>\n",
       "      <td>Y</td>\n",
       "      <td>4941.0</td>\n",
       "      <td>7.857094</td>\n",
       "      <td>4.795791</td>\n",
       "      <td>5.888878</td>\n",
       "      <td>8.505525</td>\n",
       "    </tr>\n",
       "    <tr>\n",
       "      <th>4</th>\n",
       "      <td>LP001008</td>\n",
       "      <td>Male</td>\n",
       "      <td>No</td>\n",
       "      <td>0</td>\n",
       "      <td>Graduate</td>\n",
       "      <td>No</td>\n",
       "      <td>6000</td>\n",
       "      <td>0.0</td>\n",
       "      <td>141.0</td>\n",
       "      <td>360.0</td>\n",
       "      <td>1.0</td>\n",
       "      <td>Urban</td>\n",
       "      <td>Y</td>\n",
       "      <td>6000.0</td>\n",
       "      <td>8.699681</td>\n",
       "      <td>4.955827</td>\n",
       "      <td>5.888878</td>\n",
       "      <td>8.699681</td>\n",
       "    </tr>\n",
       "  </tbody>\n",
       "</table>\n",
       "</div>"
      ],
      "text/plain": [
       "    Loan_ID Gender Married Dependents     Education Self_Employed  \\\n",
       "0  LP001002   Male      No          0      Graduate            No   \n",
       "1  LP001003   Male     Yes          1      Graduate            No   \n",
       "2  LP001005   Male     Yes          0      Graduate           Yes   \n",
       "3  LP001006   Male     Yes          0  Not Graduate            No   \n",
       "4  LP001008   Male      No          0      Graduate            No   \n",
       "\n",
       "   ApplicantIncome  CoapplicantIncome  LoanAmount  Loan_Amount_Term  \\\n",
       "0             5849                0.0       128.0             360.0   \n",
       "1             4583             1508.0       128.0             360.0   \n",
       "2             3000                0.0        66.0             360.0   \n",
       "3             2583             2358.0       120.0             360.0   \n",
       "4             6000                0.0       141.0             360.0   \n",
       "\n",
       "   Credit_History Property_Area Loan_Status  Total_Applicant  \\\n",
       "0             1.0         Urban           Y           5849.0   \n",
       "1             1.0         Rural           N           6091.0   \n",
       "2             1.0         Urban           Y           3000.0   \n",
       "3             1.0         Urban           Y           4941.0   \n",
       "4             1.0         Urban           Y           6000.0   \n",
       "\n",
       "   ApplicantIncomelog  LoanAmountlog  Loan_Amount_Term_log  \\\n",
       "0            8.674197       4.859812              5.888878   \n",
       "1            8.430327       4.859812              5.888878   \n",
       "2            8.006701       4.204693              5.888878   \n",
       "3            7.857094       4.795791              5.888878   \n",
       "4            8.699681       4.955827              5.888878   \n",
       "\n",
       "   Total_Applicant_log  \n",
       "0             8.674197  \n",
       "1             8.714732  \n",
       "2             8.006701  \n",
       "3             8.505525  \n",
       "4             8.699681  "
      ]
     },
     "execution_count": 25,
     "metadata": {},
     "output_type": "execute_result"
    }
   ],
   "source": [
    "df.head()"
   ]
  },
  {
   "cell_type": "code",
   "execution_count": 26,
   "id": "b5b47030-7ef9-4866-99ed-1c17f54c6970",
   "metadata": {},
   "outputs": [
    {
     "data": {
      "text/html": [
       "<div>\n",
       "<style scoped>\n",
       "    .dataframe tbody tr th:only-of-type {\n",
       "        vertical-align: middle;\n",
       "    }\n",
       "\n",
       "    .dataframe tbody tr th {\n",
       "        vertical-align: top;\n",
       "    }\n",
       "\n",
       "    .dataframe thead th {\n",
       "        text-align: right;\n",
       "    }\n",
       "</style>\n",
       "<table border=\"1\" class=\"dataframe\">\n",
       "  <thead>\n",
       "    <tr style=\"text-align: right;\">\n",
       "      <th></th>\n",
       "      <th>Gender</th>\n",
       "      <th>Married</th>\n",
       "      <th>Dependents</th>\n",
       "      <th>Education</th>\n",
       "      <th>Self_Employed</th>\n",
       "      <th>Credit_History</th>\n",
       "      <th>Property_Area</th>\n",
       "      <th>Loan_Status</th>\n",
       "      <th>ApplicantIncomelog</th>\n",
       "      <th>LoanAmountlog</th>\n",
       "      <th>Loan_Amount_Term_log</th>\n",
       "      <th>Total_Applicant_log</th>\n",
       "    </tr>\n",
       "  </thead>\n",
       "  <tbody>\n",
       "    <tr>\n",
       "      <th>0</th>\n",
       "      <td>Male</td>\n",
       "      <td>No</td>\n",
       "      <td>0</td>\n",
       "      <td>Graduate</td>\n",
       "      <td>No</td>\n",
       "      <td>1.0</td>\n",
       "      <td>Urban</td>\n",
       "      <td>Y</td>\n",
       "      <td>8.674197</td>\n",
       "      <td>4.859812</td>\n",
       "      <td>5.888878</td>\n",
       "      <td>8.674197</td>\n",
       "    </tr>\n",
       "    <tr>\n",
       "      <th>1</th>\n",
       "      <td>Male</td>\n",
       "      <td>Yes</td>\n",
       "      <td>1</td>\n",
       "      <td>Graduate</td>\n",
       "      <td>No</td>\n",
       "      <td>1.0</td>\n",
       "      <td>Rural</td>\n",
       "      <td>N</td>\n",
       "      <td>8.430327</td>\n",
       "      <td>4.859812</td>\n",
       "      <td>5.888878</td>\n",
       "      <td>8.714732</td>\n",
       "    </tr>\n",
       "    <tr>\n",
       "      <th>2</th>\n",
       "      <td>Male</td>\n",
       "      <td>Yes</td>\n",
       "      <td>0</td>\n",
       "      <td>Graduate</td>\n",
       "      <td>Yes</td>\n",
       "      <td>1.0</td>\n",
       "      <td>Urban</td>\n",
       "      <td>Y</td>\n",
       "      <td>8.006701</td>\n",
       "      <td>4.204693</td>\n",
       "      <td>5.888878</td>\n",
       "      <td>8.006701</td>\n",
       "    </tr>\n",
       "    <tr>\n",
       "      <th>3</th>\n",
       "      <td>Male</td>\n",
       "      <td>Yes</td>\n",
       "      <td>0</td>\n",
       "      <td>Not Graduate</td>\n",
       "      <td>No</td>\n",
       "      <td>1.0</td>\n",
       "      <td>Urban</td>\n",
       "      <td>Y</td>\n",
       "      <td>7.857094</td>\n",
       "      <td>4.795791</td>\n",
       "      <td>5.888878</td>\n",
       "      <td>8.505525</td>\n",
       "    </tr>\n",
       "    <tr>\n",
       "      <th>4</th>\n",
       "      <td>Male</td>\n",
       "      <td>No</td>\n",
       "      <td>0</td>\n",
       "      <td>Graduate</td>\n",
       "      <td>No</td>\n",
       "      <td>1.0</td>\n",
       "      <td>Urban</td>\n",
       "      <td>Y</td>\n",
       "      <td>8.699681</td>\n",
       "      <td>4.955827</td>\n",
       "      <td>5.888878</td>\n",
       "      <td>8.699681</td>\n",
       "    </tr>\n",
       "  </tbody>\n",
       "</table>\n",
       "</div>"
      ],
      "text/plain": [
       "  Gender Married Dependents     Education Self_Employed  Credit_History  \\\n",
       "0   Male      No          0      Graduate            No             1.0   \n",
       "1   Male     Yes          1      Graduate            No             1.0   \n",
       "2   Male     Yes          0      Graduate           Yes             1.0   \n",
       "3   Male     Yes          0  Not Graduate            No             1.0   \n",
       "4   Male      No          0      Graduate            No             1.0   \n",
       "\n",
       "  Property_Area Loan_Status  ApplicantIncomelog  LoanAmountlog  \\\n",
       "0         Urban           Y            8.674197       4.859812   \n",
       "1         Rural           N            8.430327       4.859812   \n",
       "2         Urban           Y            8.006701       4.204693   \n",
       "3         Urban           Y            7.857094       4.795791   \n",
       "4         Urban           Y            8.699681       4.955827   \n",
       "\n",
       "   Loan_Amount_Term_log  Total_Applicant_log  \n",
       "0              5.888878             8.674197  \n",
       "1              5.888878             8.714732  \n",
       "2              5.888878             8.006701  \n",
       "3              5.888878             8.505525  \n",
       "4              5.888878             8.699681  "
      ]
     },
     "execution_count": 26,
     "metadata": {},
     "output_type": "execute_result"
    }
   ],
   "source": [
    "# drop unnecessary columns\n",
    "cols = ['ApplicantIncome','CoapplicantIncome', 'LoanAmount','Loan_Amount_Term','Total_Applicant', 'Loan_ID']\n",
    "df = df.drop(columns = cols, axis=1)\n",
    "df.head()"
   ]
  },
  {
   "cell_type": "code",
   "execution_count": 27,
   "id": "64d80e5c-7ee5-4b0c-9b38-973e960c5cf5",
   "metadata": {},
   "outputs": [],
   "source": [
    "## Encoding Technique : Label Encoding, One Hot Encoding\n",
    "\n",
    "from sklearn.preprocessing import LabelEncoder\n",
    "cols = ['Gender',\"Married\",\"Education\",\"Dependents\",\"Self_Employed\", \"Property_Area\", \"Loan_Status\"]\n",
    "le = LabelEncoder()\n",
    "for col in cols:\n",
    "    df[col] = le.fit_transform(df[col])"
   ]
  },
  {
   "cell_type": "code",
   "execution_count": 28,
   "id": "2543bb5e-2a79-433a-8892-cd489d827385",
   "metadata": {},
   "outputs": [
    {
     "data": {
      "text/plain": [
       "Gender                    int32\n",
       "Married                   int32\n",
       "Dependents                int32\n",
       "Education                 int32\n",
       "Self_Employed             int32\n",
       "Credit_History          float64\n",
       "Property_Area             int32\n",
       "Loan_Status               int32\n",
       "ApplicantIncomelog      float64\n",
       "LoanAmountlog           float64\n",
       "Loan_Amount_Term_log    float64\n",
       "Total_Applicant_log     float64\n",
       "dtype: object"
      ]
     },
     "execution_count": 28,
     "metadata": {},
     "output_type": "execute_result"
    }
   ],
   "source": [
    "df.dtypes"
   ]
  },
  {
   "cell_type": "code",
   "execution_count": 29,
   "id": "104b4353-cffe-48e7-8fa6-fc25a9e20417",
   "metadata": {},
   "outputs": [],
   "source": [
    "## Create Independent and dependent features\n",
    "\n",
    "X = df.drop(columns=['Loan_Status'],axis =1)\n",
    "y = df['Loan_Status']"
   ]
  },
  {
   "cell_type": "code",
   "execution_count": 30,
   "id": "5f69939c-da67-4f8b-a6cf-e2100f5ad78f",
   "metadata": {},
   "outputs": [
    {
     "data": {
      "text/html": [
       "<div>\n",
       "<style scoped>\n",
       "    .dataframe tbody tr th:only-of-type {\n",
       "        vertical-align: middle;\n",
       "    }\n",
       "\n",
       "    .dataframe tbody tr th {\n",
       "        vertical-align: top;\n",
       "    }\n",
       "\n",
       "    .dataframe thead th {\n",
       "        text-align: right;\n",
       "    }\n",
       "</style>\n",
       "<table border=\"1\" class=\"dataframe\">\n",
       "  <thead>\n",
       "    <tr style=\"text-align: right;\">\n",
       "      <th></th>\n",
       "      <th>Gender</th>\n",
       "      <th>Married</th>\n",
       "      <th>Dependents</th>\n",
       "      <th>Education</th>\n",
       "      <th>Self_Employed</th>\n",
       "      <th>Credit_History</th>\n",
       "      <th>Property_Area</th>\n",
       "      <th>ApplicantIncomelog</th>\n",
       "      <th>LoanAmountlog</th>\n",
       "      <th>Loan_Amount_Term_log</th>\n",
       "      <th>Total_Applicant_log</th>\n",
       "    </tr>\n",
       "  </thead>\n",
       "  <tbody>\n",
       "    <tr>\n",
       "      <th>0</th>\n",
       "      <td>1</td>\n",
       "      <td>0</td>\n",
       "      <td>0</td>\n",
       "      <td>0</td>\n",
       "      <td>0</td>\n",
       "      <td>1.0</td>\n",
       "      <td>2</td>\n",
       "      <td>8.674197</td>\n",
       "      <td>4.859812</td>\n",
       "      <td>5.888878</td>\n",
       "      <td>8.674197</td>\n",
       "    </tr>\n",
       "    <tr>\n",
       "      <th>1</th>\n",
       "      <td>1</td>\n",
       "      <td>1</td>\n",
       "      <td>1</td>\n",
       "      <td>0</td>\n",
       "      <td>0</td>\n",
       "      <td>1.0</td>\n",
       "      <td>0</td>\n",
       "      <td>8.430327</td>\n",
       "      <td>4.859812</td>\n",
       "      <td>5.888878</td>\n",
       "      <td>8.714732</td>\n",
       "    </tr>\n",
       "    <tr>\n",
       "      <th>2</th>\n",
       "      <td>1</td>\n",
       "      <td>1</td>\n",
       "      <td>0</td>\n",
       "      <td>0</td>\n",
       "      <td>1</td>\n",
       "      <td>1.0</td>\n",
       "      <td>2</td>\n",
       "      <td>8.006701</td>\n",
       "      <td>4.204693</td>\n",
       "      <td>5.888878</td>\n",
       "      <td>8.006701</td>\n",
       "    </tr>\n",
       "    <tr>\n",
       "      <th>3</th>\n",
       "      <td>1</td>\n",
       "      <td>1</td>\n",
       "      <td>0</td>\n",
       "      <td>1</td>\n",
       "      <td>0</td>\n",
       "      <td>1.0</td>\n",
       "      <td>2</td>\n",
       "      <td>7.857094</td>\n",
       "      <td>4.795791</td>\n",
       "      <td>5.888878</td>\n",
       "      <td>8.505525</td>\n",
       "    </tr>\n",
       "    <tr>\n",
       "      <th>4</th>\n",
       "      <td>1</td>\n",
       "      <td>0</td>\n",
       "      <td>0</td>\n",
       "      <td>0</td>\n",
       "      <td>0</td>\n",
       "      <td>1.0</td>\n",
       "      <td>2</td>\n",
       "      <td>8.699681</td>\n",
       "      <td>4.955827</td>\n",
       "      <td>5.888878</td>\n",
       "      <td>8.699681</td>\n",
       "    </tr>\n",
       "    <tr>\n",
       "      <th>...</th>\n",
       "      <td>...</td>\n",
       "      <td>...</td>\n",
       "      <td>...</td>\n",
       "      <td>...</td>\n",
       "      <td>...</td>\n",
       "      <td>...</td>\n",
       "      <td>...</td>\n",
       "      <td>...</td>\n",
       "      <td>...</td>\n",
       "      <td>...</td>\n",
       "      <td>...</td>\n",
       "    </tr>\n",
       "    <tr>\n",
       "      <th>609</th>\n",
       "      <td>0</td>\n",
       "      <td>0</td>\n",
       "      <td>0</td>\n",
       "      <td>0</td>\n",
       "      <td>0</td>\n",
       "      <td>1.0</td>\n",
       "      <td>0</td>\n",
       "      <td>7.972811</td>\n",
       "      <td>4.276666</td>\n",
       "      <td>5.888878</td>\n",
       "      <td>7.972811</td>\n",
       "    </tr>\n",
       "    <tr>\n",
       "      <th>610</th>\n",
       "      <td>1</td>\n",
       "      <td>1</td>\n",
       "      <td>3</td>\n",
       "      <td>0</td>\n",
       "      <td>0</td>\n",
       "      <td>1.0</td>\n",
       "      <td>0</td>\n",
       "      <td>8.320448</td>\n",
       "      <td>3.713572</td>\n",
       "      <td>5.198497</td>\n",
       "      <td>8.320448</td>\n",
       "    </tr>\n",
       "    <tr>\n",
       "      <th>611</th>\n",
       "      <td>1</td>\n",
       "      <td>1</td>\n",
       "      <td>1</td>\n",
       "      <td>0</td>\n",
       "      <td>0</td>\n",
       "      <td>1.0</td>\n",
       "      <td>2</td>\n",
       "      <td>8.996280</td>\n",
       "      <td>5.537334</td>\n",
       "      <td>5.888878</td>\n",
       "      <td>9.025576</td>\n",
       "    </tr>\n",
       "    <tr>\n",
       "      <th>612</th>\n",
       "      <td>1</td>\n",
       "      <td>1</td>\n",
       "      <td>2</td>\n",
       "      <td>0</td>\n",
       "      <td>0</td>\n",
       "      <td>1.0</td>\n",
       "      <td>2</td>\n",
       "      <td>8.933796</td>\n",
       "      <td>5.236442</td>\n",
       "      <td>5.888878</td>\n",
       "      <td>8.933796</td>\n",
       "    </tr>\n",
       "    <tr>\n",
       "      <th>613</th>\n",
       "      <td>0</td>\n",
       "      <td>0</td>\n",
       "      <td>0</td>\n",
       "      <td>0</td>\n",
       "      <td>1</td>\n",
       "      <td>0.0</td>\n",
       "      <td>1</td>\n",
       "      <td>8.430327</td>\n",
       "      <td>4.897840</td>\n",
       "      <td>5.888878</td>\n",
       "      <td>8.430327</td>\n",
       "    </tr>\n",
       "  </tbody>\n",
       "</table>\n",
       "<p>614 rows × 11 columns</p>\n",
       "</div>"
      ],
      "text/plain": [
       "     Gender  Married  Dependents  Education  Self_Employed  Credit_History  \\\n",
       "0         1        0           0          0              0             1.0   \n",
       "1         1        1           1          0              0             1.0   \n",
       "2         1        1           0          0              1             1.0   \n",
       "3         1        1           0          1              0             1.0   \n",
       "4         1        0           0          0              0             1.0   \n",
       "..      ...      ...         ...        ...            ...             ...   \n",
       "609       0        0           0          0              0             1.0   \n",
       "610       1        1           3          0              0             1.0   \n",
       "611       1        1           1          0              0             1.0   \n",
       "612       1        1           2          0              0             1.0   \n",
       "613       0        0           0          0              1             0.0   \n",
       "\n",
       "     Property_Area  ApplicantIncomelog  LoanAmountlog  Loan_Amount_Term_log  \\\n",
       "0                2            8.674197       4.859812              5.888878   \n",
       "1                0            8.430327       4.859812              5.888878   \n",
       "2                2            8.006701       4.204693              5.888878   \n",
       "3                2            7.857094       4.795791              5.888878   \n",
       "4                2            8.699681       4.955827              5.888878   \n",
       "..             ...                 ...            ...                   ...   \n",
       "609              0            7.972811       4.276666              5.888878   \n",
       "610              0            8.320448       3.713572              5.198497   \n",
       "611              2            8.996280       5.537334              5.888878   \n",
       "612              2            8.933796       5.236442              5.888878   \n",
       "613              1            8.430327       4.897840              5.888878   \n",
       "\n",
       "     Total_Applicant_log  \n",
       "0               8.674197  \n",
       "1               8.714732  \n",
       "2               8.006701  \n",
       "3               8.505525  \n",
       "4               8.699681  \n",
       "..                   ...  \n",
       "609             7.972811  \n",
       "610             8.320448  \n",
       "611             9.025576  \n",
       "612             8.933796  \n",
       "613             8.430327  \n",
       "\n",
       "[614 rows x 11 columns]"
      ]
     },
     "execution_count": 30,
     "metadata": {},
     "output_type": "execute_result"
    }
   ],
   "source": [
    "X"
   ]
  },
  {
   "cell_type": "code",
   "execution_count": 31,
   "id": "1e2a6d36-f3eb-46c4-9626-3521a6e5ef4f",
   "metadata": {},
   "outputs": [
    {
     "data": {
      "text/plain": [
       "0      1\n",
       "1      0\n",
       "2      1\n",
       "3      1\n",
       "4      1\n",
       "      ..\n",
       "609    1\n",
       "610    1\n",
       "611    1\n",
       "612    1\n",
       "613    0\n",
       "Name: Loan_Status, Length: 614, dtype: int32"
      ]
     },
     "execution_count": 31,
     "metadata": {},
     "output_type": "execute_result"
    }
   ],
   "source": [
    "y"
   ]
  },
  {
   "cell_type": "code",
   "execution_count": 32,
   "id": "9480f4ed-ed04-417e-b508-3ce68ed159c8",
   "metadata": {},
   "outputs": [],
   "source": [
    "from sklearn.model_selection import train_test_split,cross_val_score\n",
    "from sklearn.metrics import accuracy_score,confusion_matrix\n",
    "from sklearn.linear_model import LogisticRegression\n",
    "from sklearn.tree import DecisionTreeClassifier\n",
    "from sklearn.ensemble import RandomForestClassifier\n",
    "from sklearn.neighbors import KNeighborsClassifier"
   ]
  },
  {
   "cell_type": "code",
   "execution_count": 33,
   "id": "649234ba-2ae5-452d-beef-dc8239be617e",
   "metadata": {},
   "outputs": [],
   "source": [
    "X_train, X_test, y_train, y_test = train_test_split(X, y, test_size=0.25, random_state=42)"
   ]
  },
  {
   "cell_type": "code",
   "execution_count": 34,
   "id": "b42bfc2a-0f8c-4e85-8003-ae75a4baa947",
   "metadata": {},
   "outputs": [
    {
     "data": {
      "text/plain": [
       "(460, 11)"
      ]
     },
     "execution_count": 34,
     "metadata": {},
     "output_type": "execute_result"
    }
   ],
   "source": [
    "X_train.shape"
   ]
  },
  {
   "cell_type": "code",
   "execution_count": 35,
   "id": "79a7ec5a-ad0a-4c05-9a84-4426030624fe",
   "metadata": {},
   "outputs": [],
   "source": [
    "## Logistic Regression\n",
    "model1 = LogisticRegression()\n",
    "model1.fit(X_train,y_train)\n",
    "y_pred_model1 = model1.predict(X_test)\n",
    "accuracy = accuracy_score(y_test,y_pred_model1)"
   ]
  },
  {
   "cell_type": "code",
   "execution_count": 36,
   "id": "bdb3bd95-4c6b-43d5-bd88-fc33ada75ece",
   "metadata": {},
   "outputs": [
    {
     "data": {
      "text/plain": [
       "0.7727272727272727"
      ]
     },
     "execution_count": 36,
     "metadata": {},
     "output_type": "execute_result"
    }
   ],
   "source": [
    "accuracy"
   ]
  },
  {
   "cell_type": "code",
   "execution_count": 37,
   "id": "37a2de13-f857-414c-a282-e123b6cc1d09",
   "metadata": {},
   "outputs": [
    {
     "data": {
      "text/plain": [
       "77.27272727272727"
      ]
     },
     "execution_count": 37,
     "metadata": {},
     "output_type": "execute_result"
    }
   ],
   "source": [
    "accuracy*100"
   ]
  },
  {
   "cell_type": "code",
   "execution_count": 38,
   "id": "be856210-2056-4cbc-aff5-02cc22f070ae",
   "metadata": {},
   "outputs": [],
   "source": [
    "## Accuracy : The ratio of the correctly predicted values the total values"
   ]
  },
  {
   "cell_type": "code",
   "execution_count": 39,
   "id": "9ee1c57f-bc77-454b-bf52-bb958a660b06",
   "metadata": {},
   "outputs": [
    {
     "data": {
      "text/plain": [
       "array([0.81300813, 0.7804878 , 0.7804878 , 0.85365854, 0.81967213])"
      ]
     },
     "execution_count": 39,
     "metadata": {},
     "output_type": "execute_result"
    }
   ],
   "source": [
    "score = cross_val_score(model1,X,y,cv=5)\n",
    "score"
   ]
  },
  {
   "cell_type": "code",
   "execution_count": 40,
   "id": "cf32323d-4de7-44d9-a88e-faee1163d993",
   "metadata": {},
   "outputs": [
    {
     "data": {
      "text/plain": [
       "80.9462881514061"
      ]
     },
     "execution_count": 40,
     "metadata": {},
     "output_type": "execute_result"
    }
   ],
   "source": [
    "np.mean(score)*100"
   ]
  },
  {
   "cell_type": "code",
   "execution_count": 41,
   "id": "02fbf778-d776-4b25-bd37-a707e28232e6",
   "metadata": {},
   "outputs": [
    {
     "name": "stdout",
     "output_type": "stream",
     "text": [
      "Accuracy score of Decision Tree model:  71.42857142857143\n"
     ]
    }
   ],
   "source": [
    "## Decision Tree Classifier\n",
    "model2 = DecisionTreeClassifier()\n",
    "model2.fit(X_train,y_train)\n",
    "y_pred_model2 = model2.predict(X_test)\n",
    "accuracy = accuracy_score(y_pred_model2,y_test)\n",
    "print(\"Accuracy score of Decision Tree model: \", accuracy*100)"
   ]
  },
  {
   "cell_type": "code",
   "execution_count": 42,
   "id": "efb402c6-ec4b-4451-9b6e-dda36dbe8435",
   "metadata": {},
   "outputs": [
    {
     "name": "stdout",
     "output_type": "stream",
     "text": [
      "Cross validation score of Decision Tree:  0.6889644142343062\n"
     ]
    }
   ],
   "source": [
    "score = cross_val_score(model2,X,y,cv = 5)\n",
    "print(\"Cross validation score of Decision Tree: \", np.mean(score))"
   ]
  },
  {
   "cell_type": "code",
   "execution_count": 43,
   "id": "21706a20-df65-47a4-8ed5-c0efc4a120e0",
   "metadata": {},
   "outputs": [
    {
     "name": "stdout",
     "output_type": "stream",
     "text": [
      "Accuracy score of Random Forest model:  77.92207792207793\n"
     ]
    }
   ],
   "source": [
    "## Random forest Classifier\n",
    "model3 = RandomForestClassifier()\n",
    "model3.fit(X_train,y_train)\n",
    "y_pred_model3 = model3.predict(X_test)\n",
    "accuracy = accuracy_score(y_pred_model3,y_test)\n",
    "print(\"Accuracy score of Random Forest model: \", accuracy*100)"
   ]
  },
  {
   "cell_type": "code",
   "execution_count": 44,
   "id": "807de989-710e-43df-935d-69e8892dd8e5",
   "metadata": {},
   "outputs": [
    {
     "data": {
      "text/plain": [
       "array([0.74796748, 0.7398374 , 0.78861789, 0.82113821, 0.81967213])"
      ]
     },
     "execution_count": 44,
     "metadata": {},
     "output_type": "execute_result"
    }
   ],
   "source": [
    "score = cross_val_score(model3,X,y,cv=5)\n",
    "score"
   ]
  },
  {
   "cell_type": "code",
   "execution_count": 45,
   "id": "51eaf7b0-1d96-4162-87cd-1ba99696ddf6",
   "metadata": {},
   "outputs": [
    {
     "name": "stdout",
     "output_type": "stream",
     "text": [
      "Accuracy score of Random Forest model:  71.42857142857143\n"
     ]
    }
   ],
   "source": [
    "## KNeighbors model\n",
    "model4 = KNeighborsClassifier(n_neighbors=3)\n",
    "model4.fit(X_train,y_train)\n",
    "y_pred_model4 = model4.predict(X_test)\n",
    "accuracy = accuracy_score(y_pred_model4,y_test)\n",
    "print(\"Accuracy score of Random Forest model: \", accuracy*100)"
   ]
  },
  {
   "cell_type": "code",
   "execution_count": 46,
   "id": "db342be8-0134-4664-8651-f8e0cd301df9",
   "metadata": {},
   "outputs": [
    {
     "name": "stdout",
     "output_type": "stream",
     "text": [
      "Cross validation score of KNearest Neighbors 73.77889367128965\n"
     ]
    }
   ],
   "source": [
    "score = cross_val_score(model4,X,y,cv=3)\n",
    "print(\"Cross validation score of KNearest Neighbors\",np.mean(score)*100)"
   ]
  },
  {
   "cell_type": "code",
   "execution_count": 47,
   "id": "3a7c6f43-1b65-4bfd-bba4-6b0a1a931ecd",
   "metadata": {},
   "outputs": [
    {
     "name": "stdout",
     "output_type": "stream",
     "text": [
      "Classification Report For LogisticRegression():\n",
      "              precision    recall  f1-score   support\n",
      "\n",
      "           0       0.91      0.39      0.55        54\n",
      "           1       0.75      0.98      0.85       100\n",
      "\n",
      "    accuracy                           0.77       154\n",
      "   macro avg       0.83      0.68      0.70       154\n",
      "weighted avg       0.81      0.77      0.74       154\n",
      "\n",
      "\n",
      "Classification Report For DecisionTreeClassifier():\n",
      "              precision    recall  f1-score   support\n",
      "\n",
      "           0       0.61      0.52      0.56        54\n",
      "           1       0.76      0.82      0.79       100\n",
      "\n",
      "    accuracy                           0.71       154\n",
      "   macro avg       0.68      0.67      0.67       154\n",
      "weighted avg       0.71      0.71      0.71       154\n",
      "\n",
      "\n",
      "Classification Report For RandomForestClassifier():\n",
      "              precision    recall  f1-score   support\n",
      "\n",
      "           0       0.86      0.44      0.59        54\n",
      "           1       0.76      0.96      0.85       100\n",
      "\n",
      "    accuracy                           0.78       154\n",
      "   macro avg       0.81      0.70      0.72       154\n",
      "weighted avg       0.80      0.78      0.76       154\n",
      "\n",
      "\n",
      "Classification Report For KNeighborsClassifier(n_neighbors=3):\n",
      "              precision    recall  f1-score   support\n",
      "\n",
      "           0       0.63      0.44      0.52        54\n",
      "           1       0.74      0.86      0.80       100\n",
      "\n",
      "    accuracy                           0.71       154\n",
      "   macro avg       0.69      0.65      0.66       154\n",
      "weighted avg       0.70      0.71      0.70       154\n",
      "\n",
      "\n"
     ]
    }
   ],
   "source": [
    "from sklearn.metrics import classification_report\n",
    "\n",
    "def generate_classification_report(model_name,y_test,y_pred):\n",
    "    report = classification_report(y_test,y_pred)\n",
    "    print(f\"Classification Report For {model_name}:\\n{report}\\n\")\n",
    "    \n",
    "generate_classification_report(model1,y_test,y_pred_model1)\n",
    "generate_classification_report(model2,y_test,y_pred_model2)\n",
    "generate_classification_report(model3,y_test,y_pred_model3)\n",
    "generate_classification_report(model4,y_test,y_pred_model4)"
   ]
  },
  {
   "cell_type": "code",
   "execution_count": 48,
   "id": "e8e85eba-c9a4-470f-b791-24b4b29712bc",
   "metadata": {},
   "outputs": [
    {
     "data": {
      "text/plain": [
       "Loan_Status\n",
       "1    422\n",
       "0    192\n",
       "Name: count, dtype: int64"
      ]
     },
     "execution_count": 48,
     "metadata": {},
     "output_type": "execute_result"
    }
   ],
   "source": [
    "df['Loan_Status'].value_counts()"
   ]
  },
  {
   "cell_type": "code",
   "execution_count": 49,
   "id": "124f46cc-9f83-482b-b2e3-55ac259f273c",
   "metadata": {},
   "outputs": [
    {
     "name": "stdout",
     "output_type": "stream",
     "text": [
      "Requirement already satisfied: imbalanced-learn in e:\\anaconda3\\lib\\site-packages (0.12.3)\n",
      "Requirement already satisfied: numpy>=1.17.3 in e:\\anaconda3\\lib\\site-packages (from imbalanced-learn) (1.26.3)\n",
      "Requirement already satisfied: scipy>=1.5.0 in e:\\anaconda3\\lib\\site-packages (from imbalanced-learn) (1.11.4)\n",
      "Requirement already satisfied: scikit-learn>=1.0.2 in e:\\anaconda3\\lib\\site-packages (from imbalanced-learn) (1.2.2)\n",
      "Requirement already satisfied: joblib>=1.1.1 in e:\\anaconda3\\lib\\site-packages (from imbalanced-learn) (1.2.0)\n",
      "Requirement already satisfied: threadpoolctl>=2.0.0 in e:\\anaconda3\\lib\\site-packages (from imbalanced-learn) (2.2.0)\n",
      "Note: you may need to restart the kernel to use updated packages.\n"
     ]
    }
   ],
   "source": [
    "pip install -U imbalanced-learn"
   ]
  },
  {
   "cell_type": "code",
   "execution_count": 50,
   "id": "3787a2e9-d5b3-491f-b9a6-988cad6af599",
   "metadata": {},
   "outputs": [],
   "source": [
    "from imblearn.over_sampling import RandomOverSampler"
   ]
  },
  {
   "cell_type": "code",
   "execution_count": 51,
   "id": "06e84228-8f77-4d07-83ca-e314c4a45746",
   "metadata": {},
   "outputs": [],
   "source": [
    "oversample = RandomOverSampler(random_state=42)\n",
    "X_resampled,y_resampled = oversample.fit_resample(X,y)\n",
    "\n",
    "df_resampled = pd.concat([pd.DataFrame(X_resampled,columns=X.columns),pd.Series(y_resampled,name=\"Loan_Status\")],axis=1)"
   ]
  },
  {
   "cell_type": "code",
   "execution_count": 52,
   "id": "4ee02046-fd1e-48fd-a23a-564a176da9aa",
   "metadata": {},
   "outputs": [
    {
     "data": {
      "text/html": [
       "<div>\n",
       "<style scoped>\n",
       "    .dataframe tbody tr th:only-of-type {\n",
       "        vertical-align: middle;\n",
       "    }\n",
       "\n",
       "    .dataframe tbody tr th {\n",
       "        vertical-align: top;\n",
       "    }\n",
       "\n",
       "    .dataframe thead th {\n",
       "        text-align: right;\n",
       "    }\n",
       "</style>\n",
       "<table border=\"1\" class=\"dataframe\">\n",
       "  <thead>\n",
       "    <tr style=\"text-align: right;\">\n",
       "      <th></th>\n",
       "      <th>Gender</th>\n",
       "      <th>Married</th>\n",
       "      <th>Dependents</th>\n",
       "      <th>Education</th>\n",
       "      <th>Self_Employed</th>\n",
       "      <th>Credit_History</th>\n",
       "      <th>Property_Area</th>\n",
       "      <th>ApplicantIncomelog</th>\n",
       "      <th>LoanAmountlog</th>\n",
       "      <th>Loan_Amount_Term_log</th>\n",
       "      <th>Total_Applicant_log</th>\n",
       "    </tr>\n",
       "  </thead>\n",
       "  <tbody>\n",
       "    <tr>\n",
       "      <th>0</th>\n",
       "      <td>1</td>\n",
       "      <td>0</td>\n",
       "      <td>0</td>\n",
       "      <td>0</td>\n",
       "      <td>0</td>\n",
       "      <td>1.0</td>\n",
       "      <td>2</td>\n",
       "      <td>8.674197</td>\n",
       "      <td>4.859812</td>\n",
       "      <td>5.888878</td>\n",
       "      <td>8.674197</td>\n",
       "    </tr>\n",
       "    <tr>\n",
       "      <th>1</th>\n",
       "      <td>1</td>\n",
       "      <td>1</td>\n",
       "      <td>1</td>\n",
       "      <td>0</td>\n",
       "      <td>0</td>\n",
       "      <td>1.0</td>\n",
       "      <td>0</td>\n",
       "      <td>8.430327</td>\n",
       "      <td>4.859812</td>\n",
       "      <td>5.888878</td>\n",
       "      <td>8.714732</td>\n",
       "    </tr>\n",
       "    <tr>\n",
       "      <th>2</th>\n",
       "      <td>1</td>\n",
       "      <td>1</td>\n",
       "      <td>0</td>\n",
       "      <td>0</td>\n",
       "      <td>1</td>\n",
       "      <td>1.0</td>\n",
       "      <td>2</td>\n",
       "      <td>8.006701</td>\n",
       "      <td>4.204693</td>\n",
       "      <td>5.888878</td>\n",
       "      <td>8.006701</td>\n",
       "    </tr>\n",
       "    <tr>\n",
       "      <th>3</th>\n",
       "      <td>1</td>\n",
       "      <td>1</td>\n",
       "      <td>0</td>\n",
       "      <td>1</td>\n",
       "      <td>0</td>\n",
       "      <td>1.0</td>\n",
       "      <td>2</td>\n",
       "      <td>7.857094</td>\n",
       "      <td>4.795791</td>\n",
       "      <td>5.888878</td>\n",
       "      <td>8.505525</td>\n",
       "    </tr>\n",
       "    <tr>\n",
       "      <th>4</th>\n",
       "      <td>1</td>\n",
       "      <td>0</td>\n",
       "      <td>0</td>\n",
       "      <td>0</td>\n",
       "      <td>0</td>\n",
       "      <td>1.0</td>\n",
       "      <td>2</td>\n",
       "      <td>8.699681</td>\n",
       "      <td>4.955827</td>\n",
       "      <td>5.888878</td>\n",
       "      <td>8.699681</td>\n",
       "    </tr>\n",
       "    <tr>\n",
       "      <th>...</th>\n",
       "      <td>...</td>\n",
       "      <td>...</td>\n",
       "      <td>...</td>\n",
       "      <td>...</td>\n",
       "      <td>...</td>\n",
       "      <td>...</td>\n",
       "      <td>...</td>\n",
       "      <td>...</td>\n",
       "      <td>...</td>\n",
       "      <td>...</td>\n",
       "      <td>...</td>\n",
       "    </tr>\n",
       "    <tr>\n",
       "      <th>839</th>\n",
       "      <td>1</td>\n",
       "      <td>1</td>\n",
       "      <td>3</td>\n",
       "      <td>1</td>\n",
       "      <td>0</td>\n",
       "      <td>1.0</td>\n",
       "      <td>2</td>\n",
       "      <td>8.292298</td>\n",
       "      <td>4.859812</td>\n",
       "      <td>5.198497</td>\n",
       "      <td>8.292298</td>\n",
       "    </tr>\n",
       "    <tr>\n",
       "      <th>840</th>\n",
       "      <td>1</td>\n",
       "      <td>1</td>\n",
       "      <td>1</td>\n",
       "      <td>0</td>\n",
       "      <td>0</td>\n",
       "      <td>1.0</td>\n",
       "      <td>0</td>\n",
       "      <td>7.539559</td>\n",
       "      <td>4.127134</td>\n",
       "      <td>5.888878</td>\n",
       "      <td>7.539559</td>\n",
       "    </tr>\n",
       "    <tr>\n",
       "      <th>841</th>\n",
       "      <td>1</td>\n",
       "      <td>1</td>\n",
       "      <td>1</td>\n",
       "      <td>0</td>\n",
       "      <td>0</td>\n",
       "      <td>0.0</td>\n",
       "      <td>0</td>\n",
       "      <td>7.933080</td>\n",
       "      <td>4.990433</td>\n",
       "      <td>5.888878</td>\n",
       "      <td>8.456381</td>\n",
       "    </tr>\n",
       "    <tr>\n",
       "      <th>842</th>\n",
       "      <td>1</td>\n",
       "      <td>1</td>\n",
       "      <td>2</td>\n",
       "      <td>1</td>\n",
       "      <td>0</td>\n",
       "      <td>0.0</td>\n",
       "      <td>2</td>\n",
       "      <td>7.969012</td>\n",
       "      <td>3.828641</td>\n",
       "      <td>5.198497</td>\n",
       "      <td>7.969012</td>\n",
       "    </tr>\n",
       "    <tr>\n",
       "      <th>843</th>\n",
       "      <td>1</td>\n",
       "      <td>0</td>\n",
       "      <td>0</td>\n",
       "      <td>0</td>\n",
       "      <td>0</td>\n",
       "      <td>0.0</td>\n",
       "      <td>1</td>\n",
       "      <td>8.334952</td>\n",
       "      <td>4.595120</td>\n",
       "      <td>5.888878</td>\n",
       "      <td>8.334952</td>\n",
       "    </tr>\n",
       "  </tbody>\n",
       "</table>\n",
       "<p>844 rows × 11 columns</p>\n",
       "</div>"
      ],
      "text/plain": [
       "     Gender  Married  Dependents  Education  Self_Employed  Credit_History  \\\n",
       "0         1        0           0          0              0             1.0   \n",
       "1         1        1           1          0              0             1.0   \n",
       "2         1        1           0          0              1             1.0   \n",
       "3         1        1           0          1              0             1.0   \n",
       "4         1        0           0          0              0             1.0   \n",
       "..      ...      ...         ...        ...            ...             ...   \n",
       "839       1        1           3          1              0             1.0   \n",
       "840       1        1           1          0              0             1.0   \n",
       "841       1        1           1          0              0             0.0   \n",
       "842       1        1           2          1              0             0.0   \n",
       "843       1        0           0          0              0             0.0   \n",
       "\n",
       "     Property_Area  ApplicantIncomelog  LoanAmountlog  Loan_Amount_Term_log  \\\n",
       "0                2            8.674197       4.859812              5.888878   \n",
       "1                0            8.430327       4.859812              5.888878   \n",
       "2                2            8.006701       4.204693              5.888878   \n",
       "3                2            7.857094       4.795791              5.888878   \n",
       "4                2            8.699681       4.955827              5.888878   \n",
       "..             ...                 ...            ...                   ...   \n",
       "839              2            8.292298       4.859812              5.198497   \n",
       "840              0            7.539559       4.127134              5.888878   \n",
       "841              0            7.933080       4.990433              5.888878   \n",
       "842              2            7.969012       3.828641              5.198497   \n",
       "843              1            8.334952       4.595120              5.888878   \n",
       "\n",
       "     Total_Applicant_log  \n",
       "0               8.674197  \n",
       "1               8.714732  \n",
       "2               8.006701  \n",
       "3               8.505525  \n",
       "4               8.699681  \n",
       "..                   ...  \n",
       "839             8.292298  \n",
       "840             7.539559  \n",
       "841             8.456381  \n",
       "842             7.969012  \n",
       "843             8.334952  \n",
       "\n",
       "[844 rows x 11 columns]"
      ]
     },
     "execution_count": 52,
     "metadata": {},
     "output_type": "execute_result"
    }
   ],
   "source": [
    "X_resampled"
   ]
  },
  {
   "cell_type": "code",
   "execution_count": 53,
   "id": "d6279418-fb05-47a0-a5b0-1eeabbb283fa",
   "metadata": {},
   "outputs": [
    {
     "data": {
      "text/plain": [
       "0      1\n",
       "1      0\n",
       "2      1\n",
       "3      1\n",
       "4      1\n",
       "      ..\n",
       "839    0\n",
       "840    0\n",
       "841    0\n",
       "842    0\n",
       "843    0\n",
       "Name: Loan_Status, Length: 844, dtype: int32"
      ]
     },
     "execution_count": 53,
     "metadata": {},
     "output_type": "execute_result"
    }
   ],
   "source": [
    "y_resampled"
   ]
  },
  {
   "cell_type": "code",
   "execution_count": 54,
   "id": "7c086d02-e74f-44b0-a2b9-ff58744f2b44",
   "metadata": {},
   "outputs": [
    {
     "data": {
      "text/plain": [
       "Loan_Status\n",
       "1    422\n",
       "0    422\n",
       "Name: count, dtype: int64"
      ]
     },
     "execution_count": 54,
     "metadata": {},
     "output_type": "execute_result"
    }
   ],
   "source": [
    "y_resampled.value_counts()"
   ]
  },
  {
   "cell_type": "code",
   "execution_count": 55,
   "id": "e2136074-4469-4319-89f7-770e91f6ef63",
   "metadata": {},
   "outputs": [],
   "source": [
    "X_resampled_train,X_resampled_test,y_resampled_train,y_resampled_test = train_test_split(X_resampled,y_resampled,test_size=0.25,random_state=42)"
   ]
  },
  {
   "cell_type": "code",
   "execution_count": 56,
   "id": "184aa8b0-3546-4ed4-b91e-8a30598f557f",
   "metadata": {},
   "outputs": [
    {
     "data": {
      "text/plain": [
       "68.24644549763033"
      ]
     },
     "execution_count": 56,
     "metadata": {},
     "output_type": "execute_result"
    }
   ],
   "source": [
    "## Logistic Regression\n",
    "model1 = LogisticRegression()\n",
    "model1.fit(X_resampled_train,y_resampled_train)\n",
    "y_pred_model1 = model1.predict(X_resampled_test)\n",
    "accuracy = accuracy_score(y_resampled_test,y_pred_model1)\n",
    "accuracy*100"
   ]
  },
  {
   "cell_type": "code",
   "execution_count": 57,
   "id": "06da809e-3f1a-40ca-ba83-6912b9e9b3e2",
   "metadata": {},
   "outputs": [
    {
     "data": {
      "text/plain": [
       "78.67298578199052"
      ]
     },
     "execution_count": 57,
     "metadata": {},
     "output_type": "execute_result"
    }
   ],
   "source": [
    "## Decision Tree Regression\n",
    "model2 = DecisionTreeClassifier()\n",
    "model2.fit(X_resampled_train,y_resampled_train)\n",
    "y_pred_model2 = model2.predict(X_resampled_test)\n",
    "accuracy = accuracy_score(y_resampled_test,y_pred_model2)\n",
    "accuracy*100"
   ]
  },
  {
   "cell_type": "code",
   "execution_count": 58,
   "id": "fc7c0c3a-169e-4edb-8424-3f8b3615f1a8",
   "metadata": {},
   "outputs": [
    {
     "data": {
      "text/plain": [
       "88.62559241706161"
      ]
     },
     "execution_count": 58,
     "metadata": {},
     "output_type": "execute_result"
    }
   ],
   "source": [
    "## Random Forest Classifier\n",
    "model3 = RandomForestClassifier()\n",
    "model3.fit(X_resampled_train,y_resampled_train)\n",
    "y_pred_model3 = model3.predict(X_resampled_test)\n",
    "accuracy = accuracy_score(y_resampled_test,y_pred_model3)\n",
    "accuracy*100"
   ]
  },
  {
   "cell_type": "code",
   "execution_count": 59,
   "id": "b4a1b3c2-a936-44ec-98b5-86a801e13a80",
   "metadata": {},
   "outputs": [
    {
     "data": {
      "text/plain": [
       "72.03791469194313"
      ]
     },
     "execution_count": 59,
     "metadata": {},
     "output_type": "execute_result"
    }
   ],
   "source": [
    "## Kneighbors classifier\n",
    "model4 = KNeighborsClassifier(n_neighbors=3)\n",
    "model4.fit(X_resampled_train,y_resampled_train)\n",
    "y_pred_model4 = model4.predict(X_resampled_test)\n",
    "accuracy = accuracy_score(y_resampled_test,y_pred_model4)\n",
    "accuracy*100"
   ]
  },
  {
   "cell_type": "code",
   "execution_count": 60,
   "id": "550b30a1-e37e-4402-88c8-b0959b512b90",
   "metadata": {},
   "outputs": [
    {
     "name": "stdout",
     "output_type": "stream",
     "text": [
      "Classification Report For LogisticRegression():\n",
      "              precision    recall  f1-score   support\n",
      "\n",
      "           0       0.82      0.53      0.64       114\n",
      "           1       0.61      0.87      0.71        97\n",
      "\n",
      "    accuracy                           0.68       211\n",
      "   macro avg       0.72      0.70      0.68       211\n",
      "weighted avg       0.72      0.68      0.68       211\n",
      "\n",
      "\n",
      "Classification Report For DecisionTreeClassifier():\n",
      "              precision    recall  f1-score   support\n",
      "\n",
      "           0       0.78      0.85      0.81       114\n",
      "           1       0.80      0.71      0.75        97\n",
      "\n",
      "    accuracy                           0.79       211\n",
      "   macro avg       0.79      0.78      0.78       211\n",
      "weighted avg       0.79      0.79      0.79       211\n",
      "\n",
      "\n",
      "Classification Report For RandomForestClassifier():\n",
      "              precision    recall  f1-score   support\n",
      "\n",
      "           0       0.92      0.86      0.89       114\n",
      "           1       0.85      0.92      0.88        97\n",
      "\n",
      "    accuracy                           0.89       211\n",
      "   macro avg       0.89      0.89      0.89       211\n",
      "weighted avg       0.89      0.89      0.89       211\n",
      "\n",
      "\n",
      "Classification Report For KNeighborsClassifier(n_neighbors=3):\n",
      "              precision    recall  f1-score   support\n",
      "\n",
      "           0       0.73      0.76      0.75       114\n",
      "           1       0.71      0.67      0.69        97\n",
      "\n",
      "    accuracy                           0.72       211\n",
      "   macro avg       0.72      0.72      0.72       211\n",
      "weighted avg       0.72      0.72      0.72       211\n",
      "\n",
      "\n"
     ]
    }
   ],
   "source": [
    "from sklearn.metrics import classification_report\n",
    "\n",
    "def generate_classification_report(model_name,y_test,y_pred):\n",
    "    report = classification_report(y_test,y_pred)\n",
    "    print(f\"Classification Report For {model_name}:\\n{report}\\n\")\n",
    "    \n",
    "generate_classification_report(model1,y_resampled_test,y_pred_model1)\n",
    "generate_classification_report(model2,y_resampled_test,y_pred_model2)\n",
    "generate_classification_report(model3,y_resampled_test,y_pred_model3)\n",
    "generate_classification_report(model4,y_resampled_test,y_pred_model4)"
   ]
  }
 ],
 "metadata": {
  "kernelspec": {
   "display_name": "Python 3 (ipykernel)",
   "language": "python",
   "name": "python3"
  },
  "language_info": {
   "codemirror_mode": {
    "name": "ipython",
    "version": 3
   },
   "file_extension": ".py",
   "mimetype": "text/x-python",
   "name": "python",
   "nbconvert_exporter": "python",
   "pygments_lexer": "ipython3",
   "version": "3.11.7"
  },
  "widgets": {
   "application/vnd.jupyter.widget-state+json": {
    "state": {},
    "version_major": 2,
    "version_minor": 0
   }
  }
 },
 "nbformat": 4,
 "nbformat_minor": 5
}
